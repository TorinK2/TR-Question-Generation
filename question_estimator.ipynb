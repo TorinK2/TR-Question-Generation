{
 "cells": [
  {
   "cell_type": "code",
   "execution_count": 65,
   "metadata": {
    "collapsed": true
   },
   "outputs": [],
   "source": [
    "import spacy\n",
    "import numpy as np\n",
    "import torch\n",
    "nlp_spacy = spacy.load('en_core_web_lg')"
   ]
  },
  {
   "cell_type": "code",
   "execution_count": 66,
   "outputs": [],
   "source": [
    "\"\"\"\n",
    "Bag of Words Approach\n",
    "\"\"\"\n",
    "\n",
    "tokenizer = nlp_spacy.tokenizer\n",
    "\n",
    "def tokenize(sentence):\n",
    "    tokens = []\n",
    "    for token in tokenizer(sentence):\n",
    "        if not token.is_punct:\n",
    "            tokens.append(token.text.lower())\n",
    "    return tokens\n",
    "\n",
    "def s2v_factory_bow(sentences):\n",
    "    tokens = set()\n",
    "    for sentence in sentences:\n",
    "        tokens.update(tokenize(sentence))\n",
    "    tokens = {t: i for i, t in enumerate(tokens)}\n",
    "    n = len(tokens)\n",
    "\n",
    "    def sent2vec_bow(sentences):\n",
    "        encodings = np.zeros((len(sentences), n))\n",
    "        for i, sentence in enumerate(sentences):\n",
    "            for token in tokenize(sentence):\n",
    "                if token in tokens:\n",
    "                    encodings[i, tokens[token]] += 1\n",
    "        return encodings\n",
    "\n",
    "    return sent2vec_bow"
   ],
   "metadata": {
    "collapsed": false,
    "pycharm": {
     "name": "#%%\n"
    }
   }
  },
  {
   "cell_type": "code",
   "execution_count": 67,
   "outputs": [],
   "source": [
    "\"\"\"\n",
    "SBERT Approach\n",
    "\"\"\"\n",
    "\n",
    "from sentence_transformers import SentenceTransformer, util\n",
    "model = SentenceTransformer('all-MiniLM-L6-v2')\n",
    "\n",
    "def sent2vec_sbert(sentences):\n",
    "    return model.encode(sentences)\n"
   ],
   "metadata": {
    "collapsed": false,
    "pycharm": {
     "name": "#%%\n"
    }
   }
  },
  {
   "cell_type": "code",
   "execution_count": 68,
   "outputs": [],
   "source": [
    "def rank_questions(questions, sentences, sent2vec):\n",
    "    q_embeddings = sent2vec(questions)\n",
    "    s_embeddings = sent2vec(sentences)\n",
    "    dist_matrix = util.cos_sim(q_embeddings, s_embeddings)\n",
    "    importance = torch.max(dist_matrix, dim=1).values\n",
    "    return torch.argsort(importance, descending=True)"
   ],
   "metadata": {
    "collapsed": false,
    "pycharm": {
     "name": "#%%\n"
    }
   }
  },
  {
   "cell_type": "code",
   "execution_count": 72,
   "outputs": [],
   "source": [
    "sentences = [\"I like Chinese food.\", \"No you do not!\", \"Potato is a yummy food to eat.\"]\n",
    "questions = [\"Do you like to eat food?\", \"Do I also like Chinese food?\", \"Is food something you eat?\",\n",
    "             \"Am I someone who like good poetry?\"]\n",
    "\n",
    "result_sbert = rank_questions(questions, sentences, sent2vec_sbert)\n",
    "result_bow = rank_questions(questions, sentences, s2v_factory_bow(sentences))"
   ],
   "metadata": {
    "collapsed": false,
    "pycharm": {
     "name": "#%%\n"
    }
   }
  },
  {
   "cell_type": "code",
   "execution_count": 73,
   "outputs": [
    {
     "name": "stdout",
     "output_type": "stream",
     "text": [
      "tensor([1, 0, 2, 3])\n",
      "tensor([1, 3, 2, 0])\n"
     ]
    }
   ],
   "source": [
    "print(result_sbert)\n",
    "print(result_bow)\n",
    "\n"
   ],
   "metadata": {
    "collapsed": false,
    "pycharm": {
     "name": "#%%\n"
    }
   }
  },
  {
   "cell_type": "code",
   "execution_count": null,
   "outputs": [],
   "source": [],
   "metadata": {
    "collapsed": false,
    "pycharm": {
     "name": "#%%\n"
    }
   }
  }
 ],
 "metadata": {
  "kernelspec": {
   "display_name": "Python 3",
   "language": "python",
   "name": "python3"
  },
  "language_info": {
   "codemirror_mode": {
    "name": "ipython",
    "version": 2
   },
   "file_extension": ".py",
   "mimetype": "text/x-python",
   "name": "python",
   "nbconvert_exporter": "python",
   "pygments_lexer": "ipython2",
   "version": "2.7.6"
  }
 },
 "nbformat": 4,
 "nbformat_minor": 0
}