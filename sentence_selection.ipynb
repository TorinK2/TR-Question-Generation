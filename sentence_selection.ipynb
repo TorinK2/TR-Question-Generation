{
 "cells": [
  {
   "cell_type": "markdown",
   "source": [
    "# Sentence Selection Module\n",
    "1. SentenceBERT (SBERT) is used to generate embeddings of each sentence.\n",
    "2. UMAP dimensionality reduction is completed on the embeddings.\n",
    "3. The reduced embeddings undergo density-based spatial clustering. Note that\n",
    "some points are categorized as outliers (not part of a cluster), and the\n",
    "clustering algorithm can create an arbitrary number of clusters.\n",
    "4. Cosine similarity is used to analyze the sentence embeddings of each\n",
    "cluster and to sort them from most central to least central.\n",
    "5. Our final output is lists of topically related sentences, sorted by relevance\n",
    "to the topic (or some form of centrality)."
   ],
   "metadata": {
    "collapsed": false
   }
  },
  {
   "cell_type": "code",
   "execution_count": 2,
   "metadata": {
    "collapsed": true
   },
   "outputs": [],
   "source": [
    "from sentence_transformers import SentenceTransformer, util\n",
    "import spacy\n",
    "import torch\n",
    "import numpy as np\n",
    "import hdbscan\n",
    "import umap\n",
    "\n",
    "from dev_data import texts as dev_texts\n",
    "\n",
    "model = SentenceTransformer('all-MiniLM-L6-v2')\n",
    "nlp_spacy = spacy.load('en_core_web_lg')"
   ]
  },
  {
   "cell_type": "code",
   "execution_count": 3,
   "outputs": [],
   "source": [
    "def get_sentences(text):\n",
    "    \"\"\"\n",
    "    Use spaCy for sentence segmentation\n",
    "    \"\"\"\n",
    "    sentences = []\n",
    "    doc = nlp_spacy(text)\n",
    "    for sent in doc.sents:\n",
    "        sentences.append(str(sent))\n",
    "    return np.array(sentences)\n",
    "\n",
    "def get_encodings(sentences, batch_size=32):\n",
    "    return model.encode(sentences, batch_size=batch_size)\n"
   ],
   "metadata": {
    "collapsed": false,
    "pycharm": {
     "name": "#%%\n"
    }
   }
  },
  {
   "cell_type": "code",
   "execution_count": 62,
   "outputs": [],
   "source": [
    "def simple_rank(encodings, cutoff=None):\n",
    "    dist_matrix = util.cos_sim(encodings, encodings)\n",
    "    importance = torch.sum(dist_matrix, dim=1)\n",
    "    return torch.argsort(importance, descending=True)[0:cutoff]\n",
    "\n",
    "\n",
    "def cluster_rank(sentences, encodings, batch_size=32, cluster_size=15, outlier_size=1):\n",
    "    sm_encodings = umap.UMAP(n_neighbors=cluster_size, n_components=2, metric='cosine').fit_transform(encodings)\n",
    "\n",
    "    # complete clustering:\n",
    "    cluster_model = hdbscan.HDBSCAN(min_cluster_size=cluster_size, min_samples=outlier_size, metric='euclidean')\n",
    "    cluster_model.fit(sm_encodings)\n",
    "    cluster_labels = cluster_model.labels_\n",
    "    num_clusters = cluster_labels.max()\n",
    "\n",
    "    cluster_sentences = []\n",
    "    cluster_indexes = []\n",
    "    for i in range(num_clusters + 1):\n",
    "        sub_idx = np.where(i == cluster_labels)\n",
    "        sub_sm_encodings = encodings[sub_idx]\n",
    "        rank_idx = simple_rank(sub_sm_encodings)\n",
    "        full_idx = np.take(sub_idx, rank_idx)\n",
    "        cluster_indexes.append(full_idx)\n",
    "        cluster_sentences.append(sentences[full_idx])\n",
    "\n",
    "    return cluster_sentences, cluster_indexes\n",
    "\n",
    "sentences = get_sentences(dev_texts[2][6])\n",
    "encodings = get_encodings(sentences)\n",
    "sr, ir = cluster_rank(sentences, encodings)\n"
   ],
   "metadata": {
    "collapsed": false,
    "pycharm": {
     "name": "#%%\n"
    }
   }
  },
  {
   "cell_type": "code",
   "execution_count": 66,
   "outputs": [
    {
     "name": "stdout",
     "output_type": "stream",
     "text": [
      "[ 1  2  2  1  1  1  1  1  1  1  1  1  1  3  3  3  3  3  3  2  3  2  3  3\n",
      "  3  3  3  3  3  3  3  3  3  3  3  3  3  3  3  3  3  3  3  2  2 -1  3  2\n",
      "  2  2  2  2  2  1 -1 -1  1  1  1  1  2  2  0  0  0  3  0  2  0 -1  0  0\n",
      " -1 -1  0  0  0  0  0  0  0  0  0  0  0  0  0  2  1  1  1  2  2  2 -1  1\n",
      "  1  2  2  2  1  2  2 -1 -1 -1  2 -1 -1  3  2  0  3 -1 -1 -1  1  1  1  1\n",
      "  0  0]\n"
     ]
    }
   ],
   "source": [
    "sentences = get_sentences(dev_texts[3][0])\n",
    "encodings = get_encodings(sentences)\n",
    "sm_encodings = umap.UMAP(n_neighbors=3, n_components=2, metric='cosine').fit_transform(encodings)\n",
    "cluster_model = hdbscan.HDBSCAN(min_cluster_size=15, min_samples=5, metric='euclidean')\n",
    "cluster_model.fit(sm_encodings)\n",
    "cluster_labels = cluster_model.labels_\n",
    "num_clusters = cluster_labels.max()\n",
    "print(cluster_labels)\n"
   ],
   "metadata": {
    "collapsed": false,
    "pycharm": {
     "name": "#%%\n"
    }
   }
  },
  {
   "cell_type": "code",
   "execution_count": 67,
   "outputs": [],
   "source": [
    "groups = [[] for i in range(num_clusters + 2)]\n",
    "for i in range(len(cluster_labels)):\n",
    "    groups[cluster_labels[i] + 1].append(tuple(sm_encodings[i]))"
   ],
   "metadata": {
    "collapsed": false,
    "pycharm": {
     "name": "#%%\n"
    }
   }
  },
  {
   "cell_type": "code",
   "execution_count": 68,
   "outputs": [
    {
     "name": "stdout",
     "output_type": "stream",
     "text": [
      "----- -1\n",
      "10.391180038452148\t7.555512428283691\n",
      "6.757736682891846\t10.509603500366211\n",
      "6.564599990844727\t10.547747611999512\n",
      "6.450501918792725\t3.9066169261932373\n",
      "7.142343044281006\t3.4039154052734375\n",
      "6.992650985717773\t3.540253162384033\n",
      "6.846142768859863\t10.491952896118164\n",
      "7.212472915649414\t3.417005777359009\n",
      "7.177783012390137\t2.9122517108917236\n",
      "6.936582088470459\t3.1730384826660156\n",
      "7.089361190795898\t3.4692554473876953\n",
      "6.623500823974609\t3.6061384677886963\n",
      "7.0337677001953125\t3.0501561164855957\n",
      "6.711082935333252\t3.3700127601623535\n",
      "10.311153411865234\t7.389620780944824\n",
      "----- 0\n",
      "2.7597098350524902\t3.66933536529541\n",
      "3.07487154006958\t3.1179378032684326\n",
      "2.9080698490142822\t3.904606580734253\n",
      "3.036565065383911\t4.054200649261475\n",
      "3.2551238536834717\t3.244378089904785\n",
      "2.6024527549743652\t2.3673624992370605\n",
      "2.062544822692871\t2.5509848594665527\n",
      "3.334275722503662\t1.9211127758026123\n",
      "3.196087121963501\t2.011439085006714\n",
      "2.7283103466033936\t2.4556941986083984\n",
      "2.389570474624634\t2.3532121181488037\n",
      "2.203596591949463\t2.243516445159912\n",
      "2.8047256469726562\t2.996216058731079\n",
      "2.3547844886779785\t2.3992443084716797\n",
      "2.5167396068573\t2.5154571533203125\n",
      "2.5869650840759277\t3.3033835887908936\n",
      "2.243906259536743\t2.954374313354492\n",
      "1.9682615995407104\t3.3559038639068604\n",
      "2.035175085067749\t3.9912331104278564\n",
      "2.054088592529297\t3.8358869552612305\n",
      "2.209033966064453\t2.224914073944092\n",
      "2.065192461013794\t3.112778902053833\n",
      "2.3086659908294678\t2.8797788619995117\n",
      "----- 1\n",
      "2.467564105987549\t9.036401748657227\n",
      "2.390897750854492\t5.427400588989258\n",
      "1.5858922004699707\t6.77464485168457\n",
      "1.735456109046936\t6.7281999588012695\n",
      "1.7688242197036743\t6.635900497436523\n",
      "1.3178616762161255\t8.101744651794434\n",
      "1.7768293619155884\t8.889657974243164\n",
      "2.107797145843506\t8.475471496582031\n",
      "1.9894773960113525\t8.659607887268066\n",
      "1.2730854749679565\t7.989387512207031\n",
      "1.936264991760254\t8.807743072509766\n",
      "3.567127227783203\t9.304688453674316\n",
      "3.4861502647399902\t9.339509963989258\n",
      "2.1916816234588623\t8.803906440734863\n",
      "3.278571844100952\t9.447486877441406\n",
      "3.0095062255859375\t9.435453414916992\n",
      "2.1813762187957764\t5.58380651473999\n",
      "2.0395379066467285\t5.737193584442139\n",
      "2.065422296524048\t5.643073558807373\n",
      "2.5336802005767822\t9.064363479614258\n",
      "2.601050853729248\t9.111607551574707\n",
      "2.051196813583374\t5.893243312835693\n",
      "1.8759500980377197\t6.480654239654541\n",
      "1.3094700574874878\t7.853039264678955\n",
      "1.6224392652511597\t7.032630920410156\n",
      "1.2113417387008667\t7.881487846374512\n",
      "----- 2\n",
      "4.956711292266846\t8.031789779663086\n",
      "6.006819248199463\t10.367998123168945\n",
      "5.616239070892334\t9.718981742858887\n",
      "5.4007344245910645\t10.106971740722656\n",
      "5.988641738891602\t9.47545051574707\n",
      "4.3913373947143555\t8.287949562072754\n",
      "7.144550323486328\t8.499028205871582\n",
      "5.3535356521606445\t9.876256942749023\n",
      "5.04754114151001\t10.208211898803711\n",
      "4.9268412590026855\t10.227004051208496\n",
      "5.046243667602539\t9.575075149536133\n",
      "6.13620662689209\t10.467347145080566\n",
      "5.446563720703125\t9.834964752197266\n",
      "5.17141580581665\t8.668144226074219\n",
      "4.635439872741699\t8.201423645019531\n",
      "4.571017265319824\t7.534111499786377\n",
      "4.751132965087891\t7.591578483581543\n",
      "5.120006084442139\t8.323554992675781\n",
      "6.057595252990723\t8.293378829956055\n",
      "5.121973037719727\t9.240326881408691\n",
      "5.062872886657715\t7.766926288604736\n",
      "5.156206130981445\t7.8970537185668945\n",
      "5.177798271179199\t9.381814956665039\n",
      "4.587002277374268\t7.700284481048584\n",
      "5.054973125457764\t9.229570388793945\n",
      "5.179609775543213\t8.758929252624512\n",
      "----- 3\n",
      "9.495410919189453\t9.561640739440918\n",
      "9.671717643737793\t9.672009468078613\n",
      "9.106171607971191\t8.75467586517334\n",
      "8.682177543640137\t8.801389694213867\n",
      "8.804232597351074\t9.346073150634766\n",
      "9.06729793548584\t9.148929595947266\n",
      "8.573953628540039\t9.533731460571289\n",
      "9.282841682434082\t8.611639022827148\n",
      "10.355367660522461\t9.900368690490723\n",
      "9.772046089172363\t9.78054428100586\n",
      "10.37341022491455\t8.459002494812012\n",
      "9.046879768371582\t8.799729347229004\n",
      "10.575908660888672\t9.74770736694336\n",
      "10.265809059143066\t9.856913566589355\n",
      "10.159534454345703\t10.033989906311035\n",
      "9.726387023925781\t9.593006134033203\n",
      "9.521951675415039\t8.458198547363281\n",
      "10.286970138549805\t8.180850982666016\n",
      "10.46227741241455\t8.733139038085938\n",
      "10.567972183227539\t8.886621475219727\n",
      "8.486494064331055\t8.752954483032227\n",
      "10.137943267822266\t9.787769317626953\n",
      "9.831007957458496\t9.502413749694824\n",
      "9.810543060302734\t8.501665115356445\n",
      "8.841927528381348\t9.724581718444824\n",
      "8.252116203308105\t8.811001777648926\n",
      "7.735776901245117\t8.654136657714844\n",
      "7.899317741394043\t8.751313209533691\n",
      "8.952792167663574\t9.686026573181152\n",
      "7.84964656829834\t8.609832763671875\n",
      "9.187642097473145\t10.037425994873047\n",
      "9.284546852111816\t10.019377708435059\n"
     ]
    }
   ],
   "source": [
    "for i, g in enumerate(groups):\n",
    "    print('-----', i - 1)\n",
    "    for a, b in g:\n",
    "        print(f'{a}\\t{b}')\n"
   ],
   "metadata": {
    "collapsed": false,
    "pycharm": {
     "name": "#%%\n"
    }
   }
  },
  {
   "cell_type": "code",
   "execution_count": 61,
   "outputs": [],
   "source": [
    "# for a, b in list(zip(sentences, sm_encodings)):\n",
    "#     print(a)\n",
    "#     print(tuple(b))\n",
    "#     print('-----')"
   ],
   "metadata": {
    "collapsed": false,
    "pycharm": {
     "name": "#%%\n"
    }
   }
  },
  {
   "cell_type": "code",
   "execution_count": null,
   "outputs": [],
   "source": [],
   "metadata": {
    "collapsed": false,
    "pycharm": {
     "name": "#%%\n"
    }
   }
  }
 ],
 "metadata": {
  "kernelspec": {
   "display_name": "Python 3",
   "language": "python",
   "name": "python3"
  },
  "language_info": {
   "codemirror_mode": {
    "name": "ipython",
    "version": 2
   },
   "file_extension": ".py",
   "mimetype": "text/x-python",
   "name": "python",
   "nbconvert_exporter": "python",
   "pygments_lexer": "ipython2",
   "version": "2.7.6"
  }
 },
 "nbformat": 4,
 "nbformat_minor": 0
}