{
 "cells": [
  {
   "cell_type": "code",
   "execution_count": 4,
   "metadata": {
    "collapsed": true
   },
   "outputs": [
    {
     "name": "stdout",
     "output_type": "stream",
     "text": [
      "----------\n",
      "ORIGINAL:\n",
      "Leo /ˈliːoʊ/ is one of the constellations of the zodiac, lying between Cancer to the west and Virgo to the east.\n",
      "PARAPHRASED:\n",
      "['There are two constellations of the zodiac, Cancer to the west and Virgo to the east.', 'Between Cancer to the west and Virgo to the east are the constellations of the zodiac.', 'Between Cancer to the west and Virgo to the east lies one of the constellations of the zodiac.', 'Between Cancer to the west and Virgo to the east lies one of the constellations of the zodiac, called lio/.', 'There are two constellations of the zodiac, Cancer to the west and Virgo to the east, lying between each other.', 'Between Cancer to the west and Virgo to the east lies one of the constellations of the zodiac, called lio.', 'There are two constellations of the zodiac, Cancer to the west and Virgo to the east, lying between them.', 'There are two constellations of the zodiac, Cancer to the west and Virgo to the east, and they are lying between each other.', 'Between Cancer to the west and Virgo to the east lies one of the constellations of the zodiac, which is called lio/.', 'Between Cancer to the west and Virgo to the east lies one of the constellations of the zodiac, which is called lio.']\n",
      "----------\n",
      "ORIGINAL:\n",
      "Its name is Latin for lion, and to the ancient Greeks represented the Nemean Lion killed by the mythical Greek hero Heracles (known to the ancient Romans as Hercules) as one of his twelve labors.\n",
      "PARAPHRASED:\n",
      "['The Nemean Lion was killed by the mythical Greek hero Heracles and was one of his twelve labors.', 'The Nemean Lion was killed by Heracles, the mythical Greek hero, as one of his twelve labors, and its name is Latin for lion.', \"The Nemean Lion was killed by Heracles, the mythical Greek hero, as one of his twelve labors, and it's name is Latin for lion.\", 'The Nemean Lion was killed by the mythical Greek hero Heracles and was one of twelve labors.', 'The Nemean Lion was killed by Heracles, the mythical Greek hero, as one of his twelve labors, and its name was Latin for lion.', 'The Nemean Lion was killed by Heracles, the mythical Greek hero, as one of his twelve labors, and it was named after him.', 'The Nemean Lion was killed by Heracles, the mythical Greek hero, as one of his twelve labors, and it was called Latin for lion.', 'The Nemean Lion was killed by Heracles, the mythical Greek hero, as one of his twelve labors, and its name is latin for lion.', 'The Nemean Lion was killed by Heracles, the mythical Greek hero, as one of twelve labors, and was represented by its name.', 'The Nemean Lion was killed by Heracles, the mythical Greek hero, as one of his twelve labors, and its name is Latin for Lion.']\n",
      "----------\n",
      "ORIGINAL:\n",
      "Its symbol is  (♌).\n",
      "PARAPHRASED:\n",
      "['Its symbol is.', 'The symbol is.', 'Its symbol is.', 'The symbol is ().', 'Its symbol is ', 'The symbol is ()', \"It's symbol is ().\", 'It has a symbol that is ().', 'The symbol is ', 'Its symbol is ().']\n",
      "----------\n",
      "ORIGINAL:\n",
      "One of the 48 constellations described by the 2nd century astronomer Ptolemy, Leo remains one of the 88 modern constellations today, and one of the most easily recognizable due to its many bright stars and a distinctive shape that is reminiscent of the crouching lion it depicts.\n",
      "PARAPHRASED:\n",
      "['One of the 48 constellations described by the 2nd century astronomer Ptolemy, Leo is one of the 88 modern constellations and is easily recognizable due to its many bright stars and a distinctive shape that is reminiscent of the crouching lion it depicts.', 'One of the 48 constellations described by the 2nd century astronomer Ptolemy, is one of the 88 modern constellations and is easily recognizable due to its many bright stars and a distinctive shape that is reminiscent of the crouching lion it depicts.', 'One of the 48 constellations described by the 2nd century astronomer Ptolemy, is one of the 88 modern constellations and is easily recognizable due to its many bright stars and a distinctive shape that is reminiscent of a crouching lion.', 'One of the 48 constellations described by the 2nd century astronomer Ptolemy, is one of the 88 modern constellations and is easily recognizable due to its many bright stars and distinctive shape.', 'One of the 48 constellations described by the 2nd century astronomer Ptolemy, Leo is one of the 88 modern constellations and is easily recognizable due to its many bright stars and a distinctive shape that is reminiscent of a crouching lion.', 'One of the 48 constellations described by the 2nd century astronomer Ptolemy, Leo is one of the 88 modern constellations that is easily recognizable due to its many bright stars and a distinctive shape that is reminiscent of the crouching lion it depicts.', 'One of the 48 constellations described by Ptolemy, the 2nd century astronomer, is one of the 88 modern constellations and is easily recognizable due to its many bright stars and a distinctive shape that is reminiscent of the crouching lion it depicts.', 'One of the 48 constellations described by the 2nd century astronomer Ptolemy, Leo is one of the 88 modern constellations and is easily recognizable due to its many bright stars and distinctive shape.', 'One of the 48 constellations described by the 2nd century astronomer Ptolemy, is one of the 88 modern constellations and is easily recognizable due to its many bright stars and a distinctive shape that is reminiscent of the crouching lion.', 'One of the 48 constellations described by the 2nd century astronomer Ptolemy, is one of the 88 modern constellations and is easily recognizable due to its many bright stars and a distinctive shape.']\n",
      "----------\n",
      "ORIGINAL:\n",
      "The lion's mane and shoulders also form an asterism known as \"the Sickle,\" which to modern observers may resemble a backwards \"question mark.\"\n",
      "PARAPHRASED:\n",
      "['The lion\\'s mane and shoulders form an asterism known as \"the Sickle,\" which to modern observers may look like a question mark.', \"The lion's mane and shoulders form an asterism known as the Sickle, which to modern observers may look like a question mark.\", 'The lion\\'s mane and shoulders can be seen as a \"question mark\" in the modern world.', 'The lion\\'s mane and shoulders form an asterism known as \"the Sickle\", which to modern observers may look like a question mark.', 'The lion\\'s mane and shoulders form an asterism called \"the Sickle,\" which to modern observers may look like a question mark.', 'The lion\\'s mane and shoulders form an asterism known as \"the Sickle,\" which can be seen as a backwards question mark.', 'The lion\\'s mane and shoulders form an asterism known as \"the Sickle,\" which to modern observers may look like a backwards question mark.', \"The lion's mane and shoulders form an asterism known as the Sickle, which to modern observers may look like a backwards question mark.\", 'The lion\\'s mane and shoulders form an asterism known as \"the Sickle,\" which to modern observers may resemble a backwards question mark.', 'The lion\\'s mane and shoulders form an asterism known as \"the Sickle\", which to modern observers may look like a backwards question mark.']\n",
      "----------\n",
      "ORIGINAL:\n",
      " Leo contains many bright stars, many of which were individually identified by the ancients.\n",
      "PARAPHRASED:\n",
      "['The ancients identified many of the bright stars in Leo.', 'Many bright stars were identified by the ancients.', 'The ancients identified many of the bright stars in the constellation.', 'The ancients identified many of the bright stars inLeo.', 'The ancients identified many of the bright stars in L.A.', 'The ancients identified many of the bright stars in the area.', 'The ancients identified many of the bright stars in the sky.', 'The ancients identified many of the bright stars that are in Leo.', 'The ancients identified many of the bright stars in the sky with their marks.', 'The ancients identified many of the bright stars that were in the area.']\n",
      "----------\n",
      "ORIGINAL:\n",
      "There are four stars of first or second magnitude, which render this constellation especially prominent:\n",
      "PARAPHRASED:\n",
      "['This constellation is especially prominent due to the fact that there are four stars of first or second magnitude.', 'This constellation is particularly prominent due to the fact that there are four stars of first or second magnitude.', 'This constellation is especially prominent because there are four stars of first or second magnitude.', 'This constellation is especially prominent because of the four stars of first or second magnitude.', 'This constellation is especially prominent due to the fact that there are four first or second magnitude stars.', 'This constellation is especially prominent due to the fact that there are four stars in first or second magnitude.', 'This constellation is particularly prominent due to the fact that there are four first or second magnitude stars.', 'This constellation is especially prominent because of the four first or second magnitude stars.', 'This constellation is especially prominent because there are four first or second magnitude stars.', 'This constellation is particularly prominent due to the fact that there are four stars in first or second magnitude.']\n",
      "----------\n",
      "ORIGINAL:\n",
      "The other named stars in Leo are Mu Leonis, Rasalas (an abbreviation of \"Al Ras al Asad al Shamaliyy,\" meaning \"The Lion's Head Toward the South\"); and Theta Leonis, Chertan or Coxa (\"hip\").\n",
      "PARAPHRASED:\n",
      "['Mu Leonis, Rasalas, Chertan, and Coxa are the other stars in the book.', 'Mu Leonis, Rasalas, Chertan, and Coxa are the other stars in the movie.', 'Mu Leonis, Rasalas, Chertan, and Coxa are some of the stars in the book.', 'Mu Leonis, Rasalas, Chertan, and Coxa are some of the other stars in the book.', 'Mu Leonis, Rasalas, Chertan, and Coxa are the other stars in the film.', 'Mu Leonis, Rasalas, Chertan, and Coxa are some of the stars in the movie.', 'Mu Leonis, Rasalas, Chertan, and Coxa are some of the other stars in the movie.', 'Mu Leonis, Rasalas, Chertan, and Coxa are some of the other stars in the film.', 'Mu Leonis, Rasalas, Chertan, and Coxa are some of the stars named after the South.', 'Mu Leonis, Rasalas, Chertan, and Coxa are some of the other stars in the novel.']\n",
      "----------\n",
      "ORIGINAL:\n",
      "Leo is also home to one bright variable star, the red giant R Leonis.\n",
      "PARAPHRASED:\n",
      "['The red giant R Leonis is a bright variable star.', 'The red giant R Leonis is one of the bright variable stars in the area.', 'The red giant R Leonis is one of the bright variable stars.', 'The red giant R Leonis is a bright variable star in Leo.', 'The red giant R Leonis is one of the bright variable stars in Leo.', 'The red giant R Leonis is one of the bright variable stars in the sky.', 'The red giant R Leonis is a bright variable star that can be seen in the sky.', 'The red giant R Leonis is a bright variable star that can be seen in Leo.', 'The red giant R Leonis is a bright variable star, and is located in Leo.', 'The red giant R Leonis is a bright variable star, and it is located in Leo.']\n",
      "----------\n",
      "ORIGINAL:\n",
      "It is a Mira variable with a minimum magnitude of 10 and normal maximum magnitude of 6; it periodically brightens to magnitude 4.4.\n",
      "PARAPHRASED:\n",
      "['It is a Mira variable with a minimum magnitude of 10 and a maximum magnitude of 6.', 'It is a Mira variable with a minimum magnitude of 10 and normal maximum magnitude of 6.', 'It is a Mira variable with a minimum magnitude of 10 and a maximum magnitude of 6; it varies in magnitude.', 'It is a Mira variable with a minimum magnitude of 10 and normal maximum magnitude of 6; it varies in magnitude.', 'It is a Mira variable with a minimum magnitude of 10 and normal maximum magnitude of 6; it periodically increases in magnitude.', 'It is a Mira variable with a minimum magnitude of 10 and normal maximum magnitude of 6; it gradually increases in magnitude.', 'It is a Mira variable with a minimum magnitude of 10 and normal maximum magnitude of 6; it occasionally changes to a magnitude of 4.4.', 'It is a Mira variable with a minimum magnitude of 10 and normal maximum magnitude of 6; it gradually increases to a magnitude of 4.4.', 'It is a Mira variable with a minimum magnitude of 10 and normal maximum magnitude of 6; it periodically changes to a magnitude of 4.4.', 'It is a Mira variable with a minimum magnitude of 10 and normal maximum magnitude of 6; it occasionally changes to a magnitude of 4.5.']\n"
     ]
    }
   ],
   "source": [
    "import torch\n",
    "# from transformers import BartForConditionalGeneration, BartTokenizer\n",
    "from transformers import PegasusForConditionalGeneration, PegasusTokenizer\n",
    "import spacy\n",
    "from dev_data import texts as dev_texts\n",
    "import numpy as np\n",
    "\n",
    "nlp_spacy = spacy.load('en_core_web_lg')\n",
    "# V(b/2) = 2V(b) - f(b)\n",
    "def get_sentences(text):\n",
    "    \"\"\"\n",
    "    Use spaCy for sentence segmentation\n",
    "    \"\"\"\n",
    "    sentences = []\n",
    "    doc = nlp_spacy(text)\n",
    "    for sent in doc.sents:\n",
    "        sentences.append(str(sent))\n",
    "    return np.array(sentences)\n",
    "\n",
    "input_sentences = get_sentences(dev_texts[1][0])[:10]\n",
    "#input_sentence = \"They were there to enjoy us and they were there to pray for us.\"\n",
    "#\n",
    "# model = BartForConditionalGeneration.from_pretrained('eugenesiow/bart-paraphrase')\n",
    "# device = torch.device(\"cuda\" if torch.cuda.is_available() else \"cpu\")\n",
    "# model = model.to(device)\n",
    "# tokenizer = BartTokenizer.from_pretrained('eugenesiow/bart-paraphrase')\n",
    "\n",
    "model_name = 'tuner007/pegasus_paraphrase'\n",
    "torch_device = 'cuda' if torch.cuda.is_available() else 'cpu'\n",
    "tokenizer = PegasusTokenizer.from_pretrained(model_name)\n",
    "model = PegasusForConditionalGeneration.from_pretrained(model_name).to(torch_device)\n",
    "\n",
    "def get_response(input_text, num_return_sequences, num_beams):\n",
    "  batch = tokenizer([input_text],truncation=True,padding='longest',max_length=60, return_tensors=\"pt\").to(torch_device)\n",
    "  translated = model.generate(**batch,max_length=60,num_beams=num_beams, num_return_sequences=num_return_sequences, temperature=1.5)\n",
    "  tgt_text = tokenizer.batch_decode(translated, skip_special_tokens=True)\n",
    "  return tgt_text\n",
    "\n",
    "for input_sentence in input_sentences:\n",
    "    generated_sentence = get_response(input_sentence, 10, 10)\n",
    "    print('----------')\n",
    "    print('ORIGINAL:')\n",
    "    print(input_sentence)\n",
    "    print('PARAPHRASED:')\n",
    "    print(generated_sentence)\n"
   ]
  },
  {
   "cell_type": "code",
   "execution_count": 5,
   "outputs": [
    {
     "data": {
      "text/plain": "'Clinton Drew \"Clint\" Dempsey /ˈdɛmpsi/ (born March 9, 1983) is an American professional soccer player who plays for Seattle Sounders FC in Major League Soccer and has served as the captain of the United States national team. He has also played for New England Revolution, Fulham and Tottenham Hotspur. Growing up in Nacogdoches, Texas, Dempsey played for one of the top youth soccer clubs in the state, the Dallas Texans, before playing for Furman University\\'s men\\'s soccer team. In 2004, Dempsey was drafted by Major League Soccer club New England Revolution, where he quickly integrated himself into the starting lineup. Hindered initially by a jaw injury, he would eventually score 25 goals in 71 appearances with the Revolution. Between 2007 and 2012, Dempsey played for Premier League team Fulham and is the club\\'s highest Premier League goalscorer of all time. Dempsey became the first American player to score a hat-trick in the English Premier League, in the 5–2 win over Newcastle United in January 2012. Dempsey first represented the United States at the 2003 FIFA World Youth Championship and made his first appearance with the senior team on November 17, 2004, against Jamaica. He has earned over 100 caps and scored 48 international goals, making him the nation\\'s sixth-most capped player and second top scorer of all time. He has represented the nation at four CONCACAF Gold Cups (winning two), helped them to the final of the 2009 FIFA Confederations Cup and played at three FIFA World Cups, becoming the first American male to score in three World Cups.  Dempsey was born in Nacogdoches, Texas, and, for much of his childhood, his family lived in a trailer park, where he and his siblings grew up playing soccer with Hispanic immigrants. In his teens, Dempsey maintained these ties playing in a local Mexican-dominated adult league. Dempsey is of Irish descent on his father\\'s side. His older brother Ryan was offered a tryout for the Dallas Texans, an elite youth soccer club, and brought Clint, who was noticed and recruited while passing time juggling a ball on the sidelines. Dempsey became a standout on the team at an early age but had to quit due to his family\\'s time and money constraints as his eldest sister Jennifer was becoming a ranked youth tennis player. Several parents of his teammates with the Texans offered to assist the Dempseys with expenses and travel, allowing him to rejoin the club. On November 27, 1995, Dempsey lost his then 16-year-old sister Jennifer to a brain aneurysm. Dempsey was devastated with the family\\'s loss and later explained that this event helped him develop a deeper motivation to pursue soccer in honor of his sister. He went on to be the captain and high scorer of the Texans and was honored with the MVP of the Tampa Bay Sun Bowl tournament. Dempsey studied the play of Argentina\\'s national team, especially Diego Maradona, and was heartbroken when the news came to Nacogdoches that Maradona would not be playing in the 1994 World Cup game played in the Cotton Bowl. He attended Furman University as a health and exercise science major and a key player for Paladins soccer. New England Revolution selected Clint Dempsey eighth overall in the 2004 MLS SuperDraft. In his rookie season, he started 23 of 24 matches scoring seven goals. Dempsey helped the Revolution to the Eastern Conference Finals and earned 2004 MLS Rookie of the Year Honors. In 2005, Dempsey contributed ten goals and nine assists in 26 games. He scored the game-winning goal in the Eastern Conference Final on his way to an appearance in the MLS Cup Final. In 2006, Dempsey added 8 more goals, but missed significant time in the playoffs due to injury. He came on as a substitute in the MLS Cup Final, but the Revolution lost their second straight final, this time in a penalty shoot-out (largely because Dempsey opted out of the PK, and it ended up scuffed off Jay Heaps\\' foot instead). Before moving to Fulham, Dempsey went for a trial at ŁKS Łomża where the coach sent him to Fulham. In December 2006, English club Fulham offered MLS $4\\xa0million for the transfer of Dempsey, then the largest amount ever offered for an MLS player, and he became another American addition to a Cottagers\\' squad which included US internationals Brian McBride and Carlos Bocanegra. On January 11, 2007, he was granted a work permit from the Home Office as Fulham announced his signing on a long-term deal. This made Dempsey the most expensive American export to the Premier League in a deal worth a reported £2\\xa0million. He made his Fulham debut in a 1–1 home draw against Tottenham Hotspur on January 20, 2007. His FA Cup debut followed seven days later in a 3–0 home win over Stoke City. Dempsey scored his first goal for Fulham on 5 May when he struck the only goal of a 1–0 home win over Liverpool. This goal saved Fulham from relegation and effectively guaranteed their place in the top-flight for the following season. Dempsey was not in the starting XI for the first three matches of the 2007–08 season, but after an injury to Brian McBride, he came into the side as a striker and scored in a 2–1 defeat at Aston Villa. He followed this up by scoring in Fulham\\'s next fixture in a 3–3 home draw against Tottenham on September 1. Two weeks later, he opened the scoring in Fulham\\'s 1–1 away draw against Wigan Athletic. These goals gave Dempsey three in as many games. On September 29, Dempsey was involved in an aerial collision with John Terry during a 0–0 draw at Stamford Bridge which resulted in Terry being substituted. There was some suggestion that Dempsey used a deliberate elbow on Terry; however, he wasn\\'t punished for the incident as referee Martin Atkinson didn\\'t report it to The Football Association (The FA). On November 3, Dempsey scored during Fulham\\'s 3–1 home win over Reading to secure just a second league win of the season. He scored his last goals of the season in a 1–1 home draw with Wigan Athletic and 5–1 away loss to Tottenham in December. In May 2008, Fulham announced Dempsey had signed a contract extension which would keep him at the club until the summer of 2010. Fulham beat Portsmouth 1–0 on the final day of the season to secure Premier League status for another year. He ended the season as Fulham\\'s top Premier League goalscorer with six goals. Dempsey made the Fulham XI only once in the first eleven fixtures of the 2008–09 season but scored his first goal in a 1–1 away draw at Portsmouth on October 26 after coming on as a substitute. He replaced Zoltan Gera in the side and scored his first home goal of the season in a 3–0 win over Middlesbrough on December 20. Eight days later he scored twice in the West London derby against Chelsea which included a last-minute equalizer in a 2–2 home draw. On February 24, 2009, Dempsey scored the first FA Cup goal of his career in a 2–1 home win over Swansea City in the fifth-round. His final home goal of the season came in a 2–1 defeat to Blackburn Rovers on March 11. Fulham came from a goal down to beat Manchester City 3–1 away from home as Dempsey scored two goals on April 12. For the second successive season, Dempsey ended as Fulham\\'s top Premier League goalscorer joint with Andrew Johnson with seven goals. These goals helped Fulham secure a seventh-place finish in the Premier League, the highest in the club\\'s history, and confirmed their qualification for the newly formed UEFA Europa League for the following season. On August 13, 2009, Dempsey signed a contract extension to remain with Fulham through 2013. On August 20, he scored his first goal in European competition, in the new Europa League, netting Fulham\\'s second goal in a 3–1 win against Amkar Perm in the play-off round. On December 30, La Gazzetta dello Sport named Dempsey as one of the top eleven Premier League players of the season. On January 17, 2010, Dempsey suffered a suspected cruciate knee ligament injury in a 2–0 away defeat to Blackburn Rovers. On March 11, Dempsey returned, coming on in the last minute of Fulham\\'s loss away to Juventus, and then completed 72 minutes of their away loss to Manchester United in the league. On March 18, Dempsey came off the bench against Juventus in their second-leg, last-16 tie in the Europa League and scored the winner on a long chip shot. Fulham won the game 4–1 and this game resulted in Fulham winning an award, as well as Dempsey receiving an award for his goal. The Guardian suggested that the goal \"might become the most famous goal in Fulham\\'s history\". On May 12, Dempsey replaced Bobby Zamora in the 55th minute of the 2010 UEFA Europa League Final, thus making history in becoming the first ever American to appear in a major European final. In the end, Fulham lost the match, as Atlético Madrid\\'s Diego Forlán scored in the 116th minute of extra time, giving Atlético a 2–1 win. His performances throughout 2009–10 earned him the designation of Most Valuable Player among Americans in Europe by SoccerOverThere.com, among other sources. Dempsey was on the substitutes\\' bench for Fulham\\'s first two away games of 2010–11, but became a regular starter, one of only five USA players in the Premier League to do so. On September 18, 2010, he scored an equalizing goal on 56 minutes with a header against Blackburn Rovers at Ewood Park in the 1–1 draw to continue Fulham\\'s unbeaten record in the Barclays Premier League. On October 2, he scored against West Ham United past Robert Green, the same keeper that he had scored against in the World Cup. He then continued his form by scoring two goals against Wigan Athletic on October 30 as Fulham ran out 2–0 winners. On January 22, 2011, Dempsey scored another double versus Stoke City, putting Fulham temporarily out of relegation contention. On March 19, Dempsey became the first USA player to score 10 goals in a Premier League season, beating Brian McBride\\'s previous record of nine, also set while at Fulham in the 2005–06 season and 2006–07 season. Clint Dempsey broke Fulham\\'s Premier League goalscoring record by netting twice in a 3–0 victory over Bolton on April 27, 2011. He has scored a total of 33 goals for the team in the Premier League, topping both Brian McBride and Steed Malbranque, each with 32. With these goals, he scored 12 goals for Fulham in the 2010–11 season. Dempsey was voted Fulham player of the season for 2010–11 by the Fulham fans, and his 12 Premier League strikes meant he was the club\\'s leading goalscorer for the campaign. Dempsey scored a brace in the first leg of Fulham\\'s 2011–12 Europa League play-off clash against Dnipro Dnipropetrovsk at Craven Cottage. Dempsey ended with two goals as Fulham ran out 3–0 winners, setting up a comfortable second leg in Ukraine. On December 5, 2011, Dempsey scored in the 85th minute to secure a 1–0 win against Liverpool at Craven Cottage. The goal propelled Dempsey to become the most prolific USA goalscorer in the Premier League, passing Fulham legend and fellow American Brian McBride. Dempsey scored his fifth Premier League goal of the campaign with a header in a 2–0 home win against Bolton on December 17, lifting his side six points clear of the drop zone. In the club\\'s West London derby against rivals Chelsea on Boxing Day, Dempsey scored the equalizing goal as the game ended in a 1–1 draw. He then became the second American to post a hat trick in the FA Cup behind Chris Cleary with his first hat-trick of his career on January 7 against Charlton Athletic in their FA Cup Third Round game that ended in a 4–0 victory. On January 21, 2012, Dempsey scored his first Premier League hat-trick against Newcastle while the game ended in a 5–2 win for Fulham and sent his goal tally in the Premier League to nine for the season. With his hat-trick against Newcastle, he became the first ever USA player to score a hat-trick in the Premier League. Dempsey scored his 10th Premier League goal of the season, sixteenth in all competitions, in a 1–1 draw against former manager Roy Hodgson\\'s West Brom on February 1, 2012. This run of good form saw Dempsey play higher-up the field into an orthodox striker position. He \"assisted\" another goal in a 2–1 win against Stoke City on February 11, 2012. His 28th-minute shot hit the crossbar and was deflected by Stoke goalkeeper Thomas Sørensen. It was therefore awarded as an own goal off the goalie. His form this season continued against Wolverhampton Wanderers where Dempsey scored twice in a 5–0 victory for Fulham. On March 8, 2012, the day before Dempsey\\'s 29th birthday, Fulham manager Martin Jol revealed that the club had opened talks with the North American over a new three-year contract. Dempsey scored his fourteenth and fifteenth Premier League goals of the campaign, bringing his tally to twenty-one in all competitions, in a 3–0 away win over Bolton Wanderers on April 7, the first a free kick and the second a header. The strikes moved Dempsey past Louis Saha\\'s record of thirteen Premier League goals for the club in a single season. Dempsey finished fourth on the FWA Footballer of the Year list behind the winner, Arsenal\\'s Robin van Persie, and Manchester United pair Wayne Rooney and Paul Scholes, who came in second and third, respectively. Dempsey became the first USA player to reach the milestone of fifty goals in the Premier League, with a free kick against Sunderland in the last home game of the season. On June 7, 2012, Dempsey was voted the Fulham \\'Player of the Season\\' by fans for the second consecutive season. On August 31, 2012, Fulham confirmed Dempsey\\'s transfer to Tottenham Hotspur. On August 31, 2012, Dempsey joined Tottenham Hotspur on a three-year contract for a fee believed to be in the region of $9 million. The deal made Dempsey the highest salaried US soccer player of all time. With the 23 shirt that he wore at Fulham and the number 8 that he usually wears on international duty unavailable, he opted for the number 2 jersey, more usually associated with the right-back, which he wore at Furman University. Dempsey scored his first and the eventual match-winning goal for Tottenham in a 3–2 win over Manchester United. It was the first time in 23 years that Tottenham had won at Old Trafford. He scored his second goal for Spurs in the 39th minute in an away game at Southampton in October. Dempsey\\'s third and fourth goals were scored against Everton in an eventual 2–1 loss and a deflected effort against Reading on New Year\\'s Day to help his Spurs side win 3–1. In the FA Cup 3rd round he scored a double against Coventry City. On January 20, 2013, in driving snow at White Hart Lane against league leaders Manchester United, Dempsey was able to salvage a dramatic 1–1 draw for Spurs by slotting home a pass from Aaron Lennon in the 93rd minute. The goal was his fourth in four appearances in 2013. On January 27, 2013, Dempsey scored a looping header against Leeds United at Elland Road, in the FA Cup to bring the score to 2–1, however Tottenham Hotspur couldn\\'t draw level throughout the rest of the game, leaving the result at 2–1 to Leeds at the whistle. Dempsey was unable to make an impression against his old club on March 17, when Fulham came away from White Hart Lane with a 1–0 victory. On April 21, Dempsey scored the first of three goals for Tottenham in a 3–1 win over Manchester City at White Hart Lane. On May 12, Dempsey scored a long range goal and added an assist while playing against Stoke City to help Spurs win 2–1 and keep them in contention for the fourth Champions League spot. On April 11, 2013, Dempsey scored two goals against FC Basel in the second leg of the Europa League quarter-finals to send the match into extra time. Tottenham eventually lost the match on penalties and thus were eliminated from Europe. On August 3, 2013, Dempsey signed with MLS club Seattle Sounders FC as a Designated Player on a four-year contract, for a transfer fee of $9\\xa0million. He once again donned the number 2 shirt, forgoing the number 8 he usually wears for the United States and the number 23 he wore at Fulham. The previous user of the number 2 shirt, DeAndre Yedlin, moved to number 17. Dempsey made his league debut for Seattle on August 10, 2013 in a 2–1 victory over Toronto FC. Dempsey entered the match as a 34th-minute substitute after Obafemi Martins came off with an ankle injury. On December 24, 2013, Dempsey re-signed with Fulham on a two-month loan. He made his return debut on January 4, 2014 in the Third Round of the FA Cup against Norwich City. Dempsey played the entire game which resulted in a 1–1 draw, and subsequently took part in the replay at Craven Cottage, a 3–0 victory for Fulham  Although no announcement was made by Fulham FC, Dempsey appeared in the Seattle squad to face Sporting Kansas City in the season opener on March 10, 2014. Dempsey had made a return to form, scoring a hat-trick against Portland Timbers, and recording braces against FC Dallas and the Colorado Rapids, leaving his goal tally at 8 in 5 games for 2014. On June 16, 2015 in the fourth round of the Lamar Hunt U.S. Open Cup against rivals the Portland Timbers, Dempsey was sent off for ripping up referee Daniel Radford\\'s notebook in protest at the dismissal of Michael Azira. The Sounders finished the match with seven men through three dismissals and an injury, and lost 1–3 at home. For the incident, he was given a three-match MLS suspension and a fine, and banned from the Open Cup for two years in addition to a second fine. For the national team, Dempsey has frequently lined up as a striker due to his scoring threat and aerial ability, but his preferred and more normal role is off the striker. Dempsey first played for the United States national team at the 2003 FIFA World Youth Championship in the United Arab Emirates. He made his first appearance with the senior team on November 17, 2004, against Jamaica in qualification for the 2006 World Cup, replacing Ramiro Corrales for the final 23 minutes of a 1–1 draw at the Columbus Crew Stadium. On May 28, 2005, he scored his first international goal on his sixth cap, a consolation in a 2–1 defeat to England at Soldier Field, Chicago, by heading in after a save by goalkeeper David James. Dempsey\\'s first international tournament was the United States\\' victorious 2005 CONCACAF Gold Cup campaign; he netted their first goal, equalising as they came from behind to defeat Cuba 4–1 at Qwest Field in Seattle. On May 2, 2006, Dempsey was named to the US roster for the 2006 World Cup in Germany. He was the only American player to score a goal in the tournament, a group stage elimination, with his equalizing goal in the Americans\\' eventual 2–1 loss to Ghana. He won the highest individual honor in football in America when he was named Honda Player of the Year for 2006, beating Fulham teammates Kasey Keller and Brian McBride in a poll of sportswriters. Dempsey received 237 points in voting by 207 sports journalists to claim the award. Dempsey was also present as the United States defended their title at the 2007 Gold Cup, again scoring their opening goal, the sole goal in a victory against Guatemala at The Home Depot Center; his side-footed shot from Taylor Twellman\\'s assist gave the nation victory in Bob Bradley\\'s first match as coach. In the United States\\' opening 2010 World Cup qualifier, Dempsey recorded the then fastest goal in US qualifying history with a chest trap and sliding shot 53 seconds into an 8–0 defeat of Barbados. But thereafter, Dempsey experienced a dip in form leading some to doubt his first-choice status with the national team. However, Dempsey turned his fortunes around in the 2009 FIFA Confederations Cup. In the final group stage match against Egypt, Dempsey scored a trademark diving header off a Jonathan Spector cross, making the final result 3–0. This, combined with Brazil\\'s 3–0 victory against Italy in the other group match that was being played simultaneously, put the United States through to the semi-finals. In the semi-final match against Spain, Dempsey scored to put the USA up 2–0 to send them to the finals. He was named the Man of the Match for his performance. Dempsey scored in his third straight game in the Confederations Cup Final against Brazil, redirecting a similar cross from Spector in the 10th minute to open the scoring. Following the loss, he was awarded the Bronze Ball as the tournament\\'s 3rd best performer. He ended the World Cup qualifying campaign tied with Landon Donovan as the team\\'s second top scorer, behind Jozy Altidore, with five goals in thirteen matches. On June 12, 2010, Dempsey became the second American (after Brian McBride) to score in more than one World Cup when he scored the equalizer goal against England in the Americans\\' first game of the 2010 World Cup after the England goalkeeper Robert Green made a major error. Dempsey\\'s disallowed goal later in the tournament against Algeria in the group stage was very controversial. Dempsey was called offside, but the replay showed that he was most likely not offside. Despite this call, his teammate Landon Donovan scored a late stoppage time goal to win the game 1–0. During the 2011 Gold Cup, Dempsey played a key role in helping the United States advance to the final. In the group stages he recorded a goal in a 2–0 win over Canada, and in the quarter-finals, Dempsey also scored a goal in a 2–0 win over Jamaica. In the semi-finals against Panama, who had shockingly defeated the United States 1–2 in the group stage, Dempsey scored the only goal to advance the Americans to the final. With a sliding touch Dempsey redirected Landon Donovan\\'s pass into the net. On February 29, 2012, Dempsey scored the lone goal in an international friendly win against four-time World champion Italy. Jozy Altidore assisted on the goal, allowing the United States to win for the first time against Italy in eleven games played since 1934. Dempsey broke his own fastest-goal record in World Cup qualifying on September 7, scoring just 39 seconds into a 2–1 defeat against Jamaica in Kingston. During a qualifying match against Guatemala on October 16, 2012, Dempsey scored his 29th and 30th international goal, tying him with Brian McBride for third most goals scored for the United States national team. The goals helped the United States advance into the final qualifying stage for the 2014 World Cup. In March 2013, Dempsey was given the captain\\'s armband by Jürgen Klinsmann for the important World Cup qualifying matches versus Costa Rica and Mexico. On June 2, 2013, Dempsey scored two goals against Germany in a 4–3 win. The goals were his 34th and 35th overall for the national team, surpassing Eric Wynalda as second all-time top-goalscorer for the United States. Dempsey became the 14th American to reach 100 caps on September 6, 2013, netting a penalty in a 3–1 away defeat to Costa Rica in a qualifier. In 2014, Dempsey was named as captain of the 23 man United States squad ahead of the FIFA World Cup. On June 16, he scored against Ghana 29 seconds into the group play match. It was the fastest goal in American World Cup history, and fifth fastest goal in all-time World Cup history. With this goal, Dempsey also became the first American player to score in three consecutive World Cups. Dempsey went on to suffer a broken nose midway through the first half as the United States defeated Ghana 2–1. In the following match against Portugal, Dempsey notched his fourth World Cup goal in a 2–2 draw. This goal drew Dempsey level with Bert Patenaude as the second-highest goalscoring American in the World Cup, one behind Landon Donovan. Before the 2015 Gold Cup, Jurgen Klinsmann gave Michael Bradley the captain\\'s armband, in wake of the U.S. Open Cup incident. During the Gold Cup, Dempsey scored both U.S. goals in a 2–1 group stage win over Honduras at the Toyota Stadium in his native Texas. Three days later, at his former club ground in New England, he struck the only goal to defeat Haiti, sending his team into the quarter-finals, where he scored his first international hat-trick in a 6–0 victory against Cuba. In the third-place play-off, he scored his seventh goal of the tournament to equalize for a 1–1 draw against Panama, and also netted his attempt in the penalty shootout which his team eventually lost; he finished the tournament as its top scorer. Dempsey is married to Bethany Keegan Dempsey. They have four children, a son named Clayton, a daughter named Elyse, a son named Jackson and a daughter named Sophia. In his spare time he is a fisherman. Dempsey is a Roman Catholic. He has spoken about his faith saying, \"I play to the best of my abilities and am thankful for the many opportunities and amazing success  has given me. Through it all, I want to do right, not make mistakes, and live a life that is pleasing to Him.\" Dempsey is a fan of the NFL\\'s Houston Texans. One of Dempsey\\'s passions outside of soccer is hip hop music. Using the alias \"Deuce,\" he, along with fellow Texas rappers XO and the late Houston rapper Big Hawk from the Screwed Up Click, is featured rapping the song \"Don\\'t Tread\" in a Nike soccer advertising campaign for the 2006 World Cup with the intention to showcase both the sport\\'s working-class roots and the United States team ahead of the World Cup. The song\\'s video is dedicated to his sister Jennifer, who, at age 16, was suddenly struck with a fatal brain aneurysm. At Dempsey\\'s request, the video ends with a shot of him placing a flower at her grave. Dempsey, along with global cover star Lionel Messi, features on the cover of EA Sports\\' multi-platform video game FIFA 15 in the US & Canada.'"
     },
     "execution_count": 5,
     "metadata": {},
     "output_type": "execute_result"
    }
   ],
   "source": [
    "dev_texts[0][0]"
   ],
   "metadata": {
    "collapsed": false,
    "pycharm": {
     "name": "#%%\n"
    }
   }
  },
  {
   "cell_type": "code",
   "execution_count": 8,
   "outputs": [
    {
     "name": "stderr",
     "output_type": "stream",
     "text": [
      "The `xla_device` argument has been deprecated in v4.4.0 of Transformers. It is ignored and you can safely remove it from your `config.json` file.\n",
      "The `xla_device` argument has been deprecated in v4.4.0 of Transformers. It is ignored and you can safely remove it from your `config.json` file.\n",
      "The `xla_device` argument has been deprecated in v4.4.0 of Transformers. It is ignored and you can safely remove it from your `config.json` file.\n",
      "The `xla_device` argument has been deprecated in v4.4.0 of Transformers. It is ignored and you can safely remove it from your `config.json` file.\n"
     ]
    },
    {
     "name": "stdout",
     "output_type": "stream",
     "text": [
      "----------\n",
      "ORIGINAL:\n",
      "What was the name of the first American player to score a goal in the 2005 CONCACAF Gold Cup?\n",
      "PARAPHRASED:\n",
      "['What was the name of the first American player to score a goal in the 2005 CONCACAF Gold Cup?', 'What was the name of the first American player to score a goal in the 2005 CONCACAF gold cup?', 'What is the name of the first American player to score a goal in the 2005 CONCACAF Gold Cup?', 'Who was the first American player to score a goal in the 2005 CONCACAF Gold Cup?', 'What was the name of the first American player to score in the 2005 CONCACAF Gold Cup?']\n",
      "----------\n",
      "ORIGINAL:\n",
      "How many sports journalists voted for Dempsey to win Honda Player of the Year?\n",
      "PARAPHRASED:\n",
      "['How many sports journalists voted for Dempsey to win Honda Player of the Year?', 'How many sports journalists voted for Dempsey to win the Honda Player of the Year?', 'How many sports journalists voted for Dempsey to win the Honda Player of the Year award?', 'How many sports journalists voted for Dempsey to win Honda Player of the Year award?', 'How many sports journalists voted for Dempsey to win the Honda Player of the Year 2016?']\n",
      "----------\n",
      "ORIGINAL:\n",
      "When does Taurus reach opposition?\n",
      "PARAPHRASED:\n",
      "['When does Taurus reach opposition?', 'When does Taurus get an opposition?', 'When does Taurus reach the opposition?', 'When does Taurus come to the opposition?', 'When does Taurus get the opposition?']\n",
      "----------\n",
      "ORIGINAL:\n",
      "Which constellation is to the north of Taurus?\n",
      "PARAPHRASED:\n",
      "['Which constellation is north of Taurus?', 'Which constellation is to the north of Taurus?', 'Which constellation is in the north of Taurus?', 'Which constellation is the north of Taurus?', 'Which constellation is located in the north of Taurus?']\n"
     ]
    }
   ],
   "source": [
    "from transformers import AutoModelWithLMHead, AutoTokenizer\n",
    "\n",
    "tokenizer = AutoTokenizer.from_pretrained(\"mrm8488/t5-small-finetuned-quora-for-paraphrasing\")\n",
    "model = AutoModelWithLMHead.from_pretrained(\"mrm8488/t5-small-finetuned-quora-for-paraphrasing\")\n",
    "\n",
    "def paraphrase(text, max_length=128):\n",
    "\n",
    "  input_ids = tokenizer.encode(text, return_tensors=\"pt\", add_special_tokens=True)\n",
    "\n",
    "  generated_ids = model.generate(input_ids=input_ids, num_return_sequences=5, num_beams=5, max_length=max_length, no_repeat_ngram_size=2, repetition_penalty=3.5, length_penalty=1.0, early_stopping=True)\n",
    "\n",
    "  preds = [tokenizer.decode(g, skip_special_tokens=True, clean_up_tokenization_spaces=True) for g in generated_ids]\n",
    "\n",
    "  return preds\n",
    "\n",
    "# preds = paraphrase(\"paraphrase: What was the name of the first American player to score a goal in the 2005 CONCACAF Gold Cup?\")\n",
    "#\n",
    "# for pred in preds:\n",
    "#   print(pred)\n",
    "input_sentences = [\n",
    "    'What was the name of the first American player to score a goal in the 2005 CONCACAF Gold Cup?',\n",
    "    'How many sports journalists voted for Dempsey to win Honda Player of the Year?',\n",
    "    'When does Taurus reach opposition?',\n",
    "    'Which constellation is to the north of Taurus?'\n",
    "]\n",
    "\n",
    "for input_sentence in input_sentences:\n",
    "    preds = paraphrase(f\"paraphrase: {input_sentence}\")\n",
    "    print('----------')\n",
    "    print('ORIGINAL:')\n",
    "    print(input_sentence)\n",
    "    print('PARAPHRASED:')\n",
    "    print(preds)"
   ],
   "metadata": {
    "collapsed": false,
    "pycharm": {
     "name": "#%%\n"
    }
   }
  },
  {
   "cell_type": "code",
   "execution_count": null,
   "outputs": [],
   "source": [],
   "metadata": {
    "collapsed": false,
    "pycharm": {
     "name": "#%%\n"
    }
   }
  }
 ],
 "metadata": {
  "kernelspec": {
   "display_name": "Python 3",
   "language": "python",
   "name": "python3"
  },
  "language_info": {
   "codemirror_mode": {
    "name": "ipython",
    "version": 2
   },
   "file_extension": ".py",
   "mimetype": "text/x-python",
   "name": "python",
   "nbconvert_exporter": "python",
   "pygments_lexer": "ipython2",
   "version": "2.7.6"
  }
 },
 "nbformat": 4,
 "nbformat_minor": 0
}